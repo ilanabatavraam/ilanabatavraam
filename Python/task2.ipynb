{
 "cells": [
  {
   "cell_type": "markdown",
   "id": "ab93cfef-2e12-4250-9e20-77646fb67f98",
   "metadata": {},
   "source": [
    "## Задача 2\n",
    "Выгрузить из базы данных сотрудников, кто потратил с корпоративных банковских карт больше 20 000 рублей за 2024 год \n",
    "и имевших до совершения первой топливной транзакции (product_nm = ‘Fuel’) в 2024 году более 50 000 рублей на счету.\n",
    "Требуется вывести ФИО сотрудника, кол-во транзакций списания на топливо и средний чек списания за 2024 год."
   ]
  },
  {
   "cell_type": "code",
   "execution_count": 1,
   "id": "56c2e70e-653a-4382-a6b7-97e46e1cdd17",
   "metadata": {
    "scrolled": true
   },
   "outputs": [
    {
     "name": "stdout",
     "output_type": "stream",
     "text": [
      "  Employee_id Employee_name\n",
      "0   Empl_id_1   Empl_name_1\n",
      "1   Empl_id_2   Empl_name_2\n",
      "2   Empl_id_3   Empl_name_3\n",
      "3   Empl_id_4   Empl_name_4\n",
      "4   Empl_id_5   Empl_name_5\n",
      "\n",
      "     Product_id Product_nm\n",
      "0  Product_id_1       Fuel\n",
      "1  Product_id_2    Tickets\n",
      "2  Product_id_3      Hotel\n",
      "\n",
      "      Empl_id      Txn_ID    Txn_date    Txn_type    TXN_sts    Product_id  \\\n",
      "0   Empl_id_6  Txn_ID_810  2024-10-28     Accrual  Processed  Product_id_2   \n",
      "1   Empl_id_2  Txn_ID_564  2024-07-24  Redemption  Processed  Product_id_1   \n",
      "2   Empl_id_1  Txn_ID_570  2024-07-05  Redemption  Cancelled  Product_id_2   \n",
      "3   Empl_id_6  Txn_ID_110  2024-03-10     Accrual  Processed  Product_id_3   \n",
      "4  Empl_id_10  Txn_ID_423  2024-02-16     Accrual  Cancelled  Product_id_1   \n",
      "\n",
      "    Amount  Balance_after_txn  \n",
      "0     0.00           38301.78  \n",
      "1  4169.63           32408.98  \n",
      "2  2372.65           43805.13  \n",
      "3     0.00           45782.93  \n",
      "4     0.00           57108.96  \n"
     ]
    }
   ],
   "source": [
    "# Импортирование библиотек\n",
    "import pandas as pd \n",
    "import matplotlib.pyplot as plt\n",
    "\n",
    "# Загрузка данных\n",
    "employees_df = pd.read_csv('./Employees_Data.csv')\n",
    "products_df = pd.read_csv('./Products_Data.csv')\n",
    "transactions_df = pd.read_csv('./Transactions_Data.csv')\n",
    "\n",
    "print(employees_df.head(5))\n",
    "print()\n",
    "print(products_df.head(5))\n",
    "print()\n",
    "print(transactions_df.head(5))"
   ]
  },
  {
   "cell_type": "markdown",
   "id": "25a65534-1c47-4cfa-b38b-ed0a94de23d7",
   "metadata": {},
   "source": [
    "## Хочу найти имевших до совершения первой топливной транзакции (product_nm = ‘Fuel’) в 2024 году более 50 000 рублей на счету."
   ]
  },
  {
   "cell_type": "code",
   "execution_count": 2,
   "id": "ecbbd6df-6978-41dc-9ebf-724a4d8f0983",
   "metadata": {},
   "outputs": [
    {
     "name": "stdout",
     "output_type": "stream",
     "text": [
      "      Empl_id      Txn_ID   Txn_date    Txn_type    TXN_sts    Product_id  \\\n",
      "1   Empl_id_2  Txn_ID_564 2024-07-24  Redemption  Processed  Product_id_1   \n",
      "5   Empl_id_3  Txn_ID_655 2024-03-14  Redemption  Processed  Product_id_3   \n",
      "27  Empl_id_8  Txn_ID_747 2024-04-23  Redemption  Processed  Product_id_1   \n",
      "32  Empl_id_8  Txn_ID_333 2024-01-06  Redemption  Processed  Product_id_1   \n",
      "50  Empl_id_3  Txn_ID_153 2024-05-24  Redemption  Processed  Product_id_3   \n",
      "\n",
      "     Amount  Balance_after_txn  Balance_before_txn  \n",
      "1   4169.63           32408.98            36578.61  \n",
      "5   4445.67           55472.28            59917.95  \n",
      "27  9967.91           38346.00            48313.91  \n",
      "32  4250.66           59481.79            63732.45  \n",
      "50  4691.31           55110.98            59802.29  \n"
     ]
    }
   ],
   "source": [
    "# оставляю транзакции только за 2024 год\n",
    "transactions_df['Txn_date'] = pd.to_datetime(transactions_df['Txn_date'])\n",
    "transactions_df = transactions_df[(transactions_df['Txn_date'] >= '2024-01-01') & (transactions_df['Txn_date'] <= '2024-12-31')]\n",
    "\n",
    "# создаю колонку, в которой видно баланс до транзакции\n",
    "transactions_df['Balance_before_txn'] = transactions_df['Balance_after_txn'] + transactions_df['Amount']\n",
    "\n",
    "# создаю список первых транзакий по топливу, а также успешных и именно трат\n",
    "fuel_transactions = transactions_df[(transactions_df['Product_id'] == 'Product_id_1')]\n",
    "fuel_transactions = fuel_transactions[fuel_transactions['TXN_sts'] == 'Processed']\n",
    "fuel_transactions = fuel_transactions[fuel_transactions['Txn_type'] == 'Redemption']\n",
    "first_fuel_txn = fuel_transactions.sort_values(by=['Empl_id', 'Txn_date']).drop_duplicates('Empl_id', keep='first')\n",
    "first_fuel_txn = first_fuel_txn[first_fuel_txn['Balance_before_txn'] > 50000]\n",
    "\n",
    "# оставляю только этих сотрудников в исходной таблице\n",
    "transactions_df = transactions_df[transactions_df['Empl_id'].isin(first_fuel_txn['Empl_id'])]\n",
    "# оставляю только успешные транзакции\n",
    "transactions_df = transactions_df[transactions_df['TXN_sts'] == 'Processed']\n",
    "transactions_df = transactions_df[transactions_df['Txn_type'] == 'Redemption']\n",
    "\n",
    "\n",
    "print(transactions_df.head(5))"
   ]
  },
  {
   "cell_type": "markdown",
   "id": "22029d1a-0975-478e-b8cc-4bfdd008c675",
   "metadata": {},
   "source": [
    "## Поиск сотрудников, которые потратили больше 20 000 рублей за год"
   ]
  },
  {
   "cell_type": "code",
   "execution_count": 3,
   "id": "be3c4f9e-be38-4cf9-a5ca-1fabe3ffe885",
   "metadata": {},
   "outputs": [
    {
     "name": "stdout",
     "output_type": "stream",
     "text": [
      "     Empl_id    Amount\n",
      "1  Empl_id_2  29366.51\n",
      "4  Empl_id_8  21914.12\n"
     ]
    }
   ],
   "source": [
    "# добавляю имена в таблицу\n",
    "transactions_df = pd.merge(transactions_df, employees_df, left_on='Empl_id', right_on='Employee_id', how='left')\n",
    "transactions_df = transactions_df.drop(columns=['Employee_id'])\n",
    "\n",
    "\n",
    "grouped_data = transactions_df.groupby('Empl_id')['Amount'].sum().reset_index()\n",
    "grouped_data = grouped_data[grouped_data['Amount'] > 20000]\n",
    "\n",
    "print(grouped_data)"
   ]
  },
  {
   "cell_type": "markdown",
   "id": "fb7c64fa-ccb7-493b-9d92-73d37027c987",
   "metadata": {},
   "source": [
    "#  ИТОГ. ФИО сотрудника, кол-во транзакций списания на топливо и средний чек списания за 2024 год. "
   ]
  },
  {
   "cell_type": "code",
   "execution_count": 4,
   "id": "3beb05db-11c2-40a8-ab00-954709a862f4",
   "metadata": {},
   "outputs": [
    {
     "name": "stdout",
     "output_type": "stream",
     "text": [
      "  Employee_name  fuel_transaction_count  avg_all_transactions\n",
      "0   Empl_name_2                       3           9788.836667\n",
      "1   Empl_name_8                       3           5478.530000\n"
     ]
    }
   ],
   "source": [
    "transactions_df = transactions_df[transactions_df['Empl_id'].isin(grouped_data['Empl_id'])]\n",
    "\n",
    "final_result = transactions_df.groupby('Employee_name').agg(\n",
    "    fuel_transaction_count=('Product_id', lambda x: (x == 'Product_id_1').sum()),  # количество транзакций на топливо\n",
    "    avg_all_transactions=('Amount', 'mean')  # среднее по всем транзакциям\n",
    ").reset_index()\n",
    "\n",
    "\n",
    "print(final_result)"
   ]
  },
  {
   "cell_type": "code",
   "execution_count": 5,
   "id": "2d704a8c-c252-4e0c-8b84-2f864dc2f264",
   "metadata": {},
   "outputs": [
    {
     "data": {
      "image/png": "[encoded data removed]",
      "text/plain": [
       "<Figure size 800x400 with 2 Axes>"
      ]
     },
     "metadata": {},
     "output_type": "display_data"
    }
   ],
   "source": [
    "# создание двух графиков\n",
    "fig, (ax1, ax2) = plt.subplots(1, 2, figsize=(8, 4))\n",
    "\n",
    "# график для количества транзакций топлива\n",
    "ax1.bar(final_result['Employee_name'], final_result['fuel_transaction_count'], color='#005f6a', alpha=0.6)\n",
    "ax1.set_title('Количество транзакций на топливо')\n",
    "ax1.set_xlabel('Сотрудник')\n",
    "ax1.set_ylabel('Количество транзакций')\n",
    "\n",
    "# график для среднего чека\n",
    "ax2.bar(final_result['Employee_name'], final_result['avg_all_transactions'], color='#e63946', alpha=0.6)\n",
    "ax2.set_title('Средний чек списания')\n",
    "ax2.set_xlabel('Сотрудник')\n",
    "ax2.set_ylabel('Средняя сумма')\n",
    "\n",
    "\n",
    "plt.tight_layout()\n",
    "plt.show()"
   ]
  }
 ],
 "metadata": {
  "kernelspec": {
   "display_name": "Python 3 (ipykernel)",
   "language": "python",
   "name": "python3"
  },
  "language_info": {
   "codemirror_mode": {
    "name": "ipython",
    "version": 3
   },
   "file_extension": ".py",
   "mimetype": "text/x-python",
   "name": "python",
   "nbconvert_exporter": "python",
   "pygments_lexer": "ipython3",
   "version": "3.13.1"
  }
 },
 "nbformat": 4,
 "nbformat_minor": 5
}
